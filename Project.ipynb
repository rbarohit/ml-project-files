{
 "cells": [
  {
   "cell_type": "code",
   "execution_count": 1,
   "metadata": {},
   "outputs": [],
   "source": [
    "import logging\n",
    "import pandas as pd\n",
    "import numpy as np\n",
    "from numpy import random\n",
    "import gensim\n",
    "import nltk\n",
    "from sklearn.model_selection import train_test_split\n",
    "from sklearn.feature_extraction.text import CountVectorizer, TfidfVectorizer\n",
    "from sklearn.metrics import accuracy_score, confusion_matrix\n",
    "import matplotlib.pyplot as plt\n",
    "from nltk.corpus import stopwords\n",
    "import re\n",
    "from bs4 import BeautifulSoup\n",
    "%matplotlib inline\n",
    "\n"
   ]
  },
  {
   "cell_type": "code",
   "execution_count": 2,
   "metadata": {},
   "outputs": [
    {
     "name": "stderr",
     "output_type": "stream",
     "text": [
      "[nltk_data] Downloading package stopwords to\n",
      "[nltk_data]     /Users/rifatalam/nltk_data...\n",
      "[nltk_data]   Package stopwords is already up-to-date!\n"
     ]
    },
    {
     "data": {
      "text/plain": [
       "True"
      ]
     },
     "execution_count": 2,
     "metadata": {},
     "output_type": "execute_result"
    }
   ],
   "source": [
    "nltk.download('stopwords')"
   ]
  },
  {
   "cell_type": "code",
   "execution_count": 3,
   "metadata": {},
   "outputs": [],
   "source": [
    "df = pd.read_csv('/Volumes/New Volume/UIU/UIU/5th Semester/ML Project/Project 2.0/training_set.csv')"
   ]
  },
  {
   "cell_type": "code",
   "execution_count": 4,
   "metadata": {},
   "outputs": [
    {
     "data": {
      "text/html": [
       "<div>\n",
       "<style scoped>\n",
       "    .dataframe tbody tr th:only-of-type {\n",
       "        vertical-align: middle;\n",
       "    }\n",
       "\n",
       "    .dataframe tbody tr th {\n",
       "        vertical-align: top;\n",
       "    }\n",
       "\n",
       "    .dataframe thead th {\n",
       "        text-align: right;\n",
       "    }\n",
       "</style>\n",
       "<table border=\"1\" class=\"dataframe\">\n",
       "  <thead>\n",
       "    <tr style=\"text-align: right;\">\n",
       "      <th></th>\n",
       "      <th>Unnamed: 0</th>\n",
       "      <th>Unnamed: 0.1</th>\n",
       "      <th>tags</th>\n",
       "      <th>post</th>\n",
       "    </tr>\n",
       "  </thead>\n",
       "  <tbody>\n",
       "    <tr>\n",
       "      <th>0</th>\n",
       "      <td>71058</td>\n",
       "      <td>502503</td>\n",
       "      <td>Money service</td>\n",
       "      <td>When XXXX XXXX closed my account ( account # e...</td>\n",
       "    </tr>\n",
       "    <tr>\n",
       "      <th>1</th>\n",
       "      <td>129885</td>\n",
       "      <td>2096726</td>\n",
       "      <td>Consumer Loan</td>\n",
       "      <td>I purchased a vehicle thru XXXX ( XXXX XXXX XX...</td>\n",
       "    </tr>\n",
       "    <tr>\n",
       "      <th>2</th>\n",
       "      <td>95306</td>\n",
       "      <td>1277831</td>\n",
       "      <td>Student loan</td>\n",
       "      <td>Sure I called the company and no one could giv...</td>\n",
       "    </tr>\n",
       "    <tr>\n",
       "      <th>3</th>\n",
       "      <td>17082</td>\n",
       "      <td>124528</td>\n",
       "      <td>Credit reporting</td>\n",
       "      <td>Equifax fail to delete wrong information on my...</td>\n",
       "    </tr>\n",
       "    <tr>\n",
       "      <th>4</th>\n",
       "      <td>116918</td>\n",
       "      <td>2030087</td>\n",
       "      <td>Credit card</td>\n",
       "      <td>I have XXXX Bank of America credit cards. For ...</td>\n",
       "    </tr>\n",
       "  </tbody>\n",
       "</table>\n",
       "</div>"
      ],
      "text/plain": [
       "   Unnamed: 0  Unnamed: 0.1              tags  \\\n",
       "0       71058        502503     Money service   \n",
       "1      129885       2096726     Consumer Loan   \n",
       "2       95306       1277831      Student loan   \n",
       "3       17082        124528  Credit reporting   \n",
       "4      116918       2030087       Credit card   \n",
       "\n",
       "                                                post  \n",
       "0  When XXXX XXXX closed my account ( account # e...  \n",
       "1  I purchased a vehicle thru XXXX ( XXXX XXXX XX...  \n",
       "2  Sure I called the company and no one could giv...  \n",
       "3  Equifax fail to delete wrong information on my...  \n",
       "4  I have XXXX Bank of America credit cards. For ...  "
      ]
     },
     "execution_count": 4,
     "metadata": {},
     "output_type": "execute_result"
    }
   ],
   "source": [
    "df.head()"
   ]
  },
  {
   "cell_type": "code",
   "execution_count": 5,
   "metadata": {},
   "outputs": [],
   "source": [
    "df = df.drop(columns = 'Unnamed: 0.1', axis = 1)"
   ]
  },
  {
   "cell_type": "code",
   "execution_count": 6,
   "metadata": {},
   "outputs": [],
   "source": [
    "df = df.dropna()"
   ]
  },
  {
   "cell_type": "code",
   "execution_count": 7,
   "metadata": {},
   "outputs": [
    {
     "name": "stdout",
     "output_type": "stream",
     "text": [
      "   Unnamed: 0              tags  \\\n",
      "0       71058     Money service   \n",
      "1      129885     Consumer Loan   \n",
      "2       95306      Student loan   \n",
      "3       17082  Credit reporting   \n",
      "4      116918       Credit card   \n",
      "5       52213          Mortgage   \n",
      "6       21830   Debt collection   \n",
      "7      122757       Credit card   \n",
      "8      117831      Bank account   \n",
      "9       29347          Mortgage   \n",
      "\n",
      "                                                post  \n",
      "0  When XXXX XXXX closed my account ( account # e...  \n",
      "1  I purchased a vehicle thru XXXX ( XXXX XXXX XX...  \n",
      "2  Sure I called the company and no one could giv...  \n",
      "3  Equifax fail to delete wrong information on my...  \n",
      "4  I have XXXX Bank of America credit cards. For ...  \n",
      "5  I have sent two letters to Plaza Mortgage, dat...  \n",
      "6  I am the co-signer on my daughter 's auto loan...  \n",
      "7  Capital one has been charging interest for yea...  \n",
      "8  According to a number of recent articles relea...  \n",
      "9  This complaint is in regards to Ocwen 's handl...  \n",
      "18574374\n"
     ]
    }
   ],
   "source": [
    "df = df[pd.notnull(df['tags'])]\n",
    "print(df.head(10))\n",
    "print(df['post'].apply(lambda x: len(x.split(' '))).sum())"
   ]
  },
  {
   "cell_type": "code",
   "execution_count": 8,
   "metadata": {},
   "outputs": [
    {
     "data": {
      "text/plain": [
       "Bank account        8077\n",
       "Money service       8042\n",
       "Debt collection     8039\n",
       "Student loan        8018\n",
       "Vehicle loan        8014\n",
       "Mortgage            7989\n",
       "Checking account    7980\n",
       "Credit reporting    7977\n",
       "Credit card         7905\n",
       "Consumer Loan       7527\n",
       "Name: tags, dtype: int64"
      ]
     },
     "execution_count": 8,
     "metadata": {},
     "output_type": "execute_result"
    }
   ],
   "source": [
    "df['tags'].value_counts()"
   ]
  },
  {
   "cell_type": "code",
   "execution_count": 9,
   "metadata": {},
   "outputs": [],
   "source": [
    "my_tags = ['Bank account','Money service','Debt collection','Student loan','Vehicle loan','Mortgage','Checking account','Credit reporting','Credit card','Consumer Loan']"
   ]
  },
  {
   "cell_type": "code",
   "execution_count": 10,
   "metadata": {},
   "outputs": [
    {
     "name": "stdout",
     "output_type": "stream",
     "text": [
      "When XXXX XXXX closed my account ( account # ending with XXXX ) in XX/XX/XXXX, they decided to return the overpayment amount of my credit card of {$1200.00} electronically back to CheckFree Pay/Fiserv instead of sending me a refund check on XX/XX/XXXX. CheckFree Pay/Fiserv advised XXXX XXXX that I would be required to return to the location where I originally made the overpayment ( XXXX ) in XX/XX/XXXX to collect my refund and provided the trace number XXXX. But when I went back to the original payment location ( XXXX ) to collect my refund, none of the XXXX representative ( including the manager ) recognized the trace number and told me to contact CheckFree Pay/Fiserv. On XX/XX/XXXX, I then contacted CheckFree Pay/Fiserv External Customer Service Department at XXXX to address this issue and even confirmed with XXXX Customer Service Department about the refund of {$1200.00} as per CheckFree Pay/Fiserv protocol. On XX/XX/XXXX, I followed up with CheckFree Pay/Fiserv and escalated this issue to their Internal Department ( ticket # XXXX ). On XX/XX/XXXX, I followed up again with CheckFree Pay Customer Service Manager and was told that they still have no resolution as they were unable to locate my refund. On XX/XX/XXXX, I followed up again with CheckFree Pay/Fiserv Customer Service Manager and was told the same thing. I even tried to contact XXXX XXXX Solutions Department representative ( XXXX ) but he never returned my calls. It has been over 3 months since XXXX refunded my overpayment of {$1200.00} and neither XXXX nor CheckFree Pay/Fiserv can locate my money and that is why Im filing this complaint. Essentially, my money is now caught in a limbo between XXXX who claimed that they already refunded my money to CheckFree Pay/Fiserv but provided a bogus trace number that neither CheckFree Pay/Fiserv nor XXXX ( payment agent ) can recognize and CheckFree Pay/Fiserv who is unable to locate my refund in the first place.\n",
      "Tag: Money service\n"
     ]
    }
   ],
   "source": [
    "def print_plot(index):\n",
    "    example = df[['post', 'tags']].values[0]\n",
    "    if len(example) > 0:\n",
    "        print(example[0])\n",
    "        print('Tag:', example[1])\n",
    "print_plot(10)"
   ]
  },
  {
   "cell_type": "code",
   "execution_count": 11,
   "metadata": {},
   "outputs": [
    {
     "name": "stdout",
     "output_type": "stream",
     "text": [
      "xxxx xxxx closed account account # ending xxxx xx xx xxxx decided return overpayment amount credit card 120000 electronically back checkfree pay fiserv instead sending refund check xx xx xxxx checkfree pay fiserv advised xxxx xxxx would required return location originally made overpayment xxxx xx xx xxxx collect refund provided trace number xxxx went back original payment location xxxx collect refund none xxxx representative including manager recognized trace number told contact checkfree pay fiserv xx xx xxxx contacted checkfree pay fiserv external customer service department xxxx address issue even confirmed xxxx customer service department refund 120000 per checkfree pay fiserv protocol xx xx xxxx followed checkfree pay fiserv escalated issue internal department ticket # xxxx xx xx xxxx followed checkfree pay customer service manager told still resolution unable locate refund xx xx xxxx followed checkfree pay fiserv customer service manager told thing even tried contact xxxx xxxx solutions department representative xxxx never returned calls 3 months since xxxx refunded overpayment 120000 neither xxxx checkfree pay fiserv locate money im filing complaint essentially money caught limbo xxxx claimed already refunded money checkfree pay fiserv provided bogus trace number neither checkfree pay fiserv xxxx payment agent recognize checkfree pay fiserv unable locate refund first place\n",
      "Tag: Money service\n"
     ]
    }
   ],
   "source": [
    "REPLACE_BY_SPACE_RE = re.compile('[/(){}\\[\\]\\|@,;]')\n",
    "BAD_SYMBOLS_RE = re.compile('[^0-9a-z #+_]')\n",
    "STOPWORDS = set(stopwords.words('english'))\n",
    "\n",
    "def clean_text(text):\n",
    "    \"\"\"\n",
    "        text: a string\n",
    "        \n",
    "        return: modified initial string\n",
    "    \"\"\"\n",
    "    text = BeautifulSoup(text, \"lxml\").text # HTML decoding\n",
    "    text = text.lower() # lowercase text\n",
    "    text = REPLACE_BY_SPACE_RE.sub(' ', text) # replace REPLACE_BY_SPACE_RE symbols by space in text\n",
    "    text = BAD_SYMBOLS_RE.sub('', text) # delete symbols which are in BAD_SYMBOLS_RE from text\n",
    "    text = ' '.join(word for word in text.split() if word not in STOPWORDS) # delete stopwors from text\n",
    "    return text\n",
    "    \n",
    "df['post'] = df['post'].apply(clean_text)\n",
    "print_plot(10)"
   ]
  },
  {
   "cell_type": "code",
   "execution_count": 12,
   "metadata": {},
   "outputs": [
    {
     "data": {
      "text/plain": [
       "9497420"
      ]
     },
     "execution_count": 12,
     "metadata": {},
     "output_type": "execute_result"
    }
   ],
   "source": [
    "df['post'].apply(lambda x: len(x.split(' '))).sum()"
   ]
  },
  {
   "cell_type": "code",
   "execution_count": 13,
   "metadata": {},
   "outputs": [],
   "source": [
    "X = df.post\n",
    "y = df.tags\n",
    "X_train, X_test, y_train, y_test = train_test_split(X, y, test_size=0.3, random_state = 42)"
   ]
  },
  {
   "cell_type": "code",
   "execution_count": 14,
   "metadata": {},
   "outputs": [
    {
     "name": "stdout",
     "output_type": "stream",
     "text": [
      "accuracy 0.7507016882409618\n",
      "                  precision    recall  f1-score   support\n",
      "\n",
      "    Bank account       0.69      0.65      0.67      2488\n",
      "   Money service       0.63      0.72      0.68      2414\n",
      " Debt collection       0.78      0.34      0.47      2253\n",
      "    Student loan       0.74      0.77      0.76      2351\n",
      "    Vehicle loan       0.76      0.82      0.79      2385\n",
      "        Mortgage       0.79      0.67      0.73      2433\n",
      "Checking account       0.83      0.80      0.82      2369\n",
      "Credit reporting       0.80      0.95      0.87      2414\n",
      "     Credit card       0.88      0.91      0.90      2374\n",
      "   Consumer Loan       0.65      0.85      0.74      2390\n",
      "\n",
      "        accuracy                           0.75     23871\n",
      "       macro avg       0.76      0.75      0.74     23871\n",
      "    weighted avg       0.76      0.75      0.74     23871\n",
      "\n"
     ]
    }
   ],
   "source": [
    "from sklearn.naive_bayes import MultinomialNB\n",
    "from sklearn.pipeline import Pipeline\n",
    "from sklearn.feature_extraction.text import TfidfTransformer\n",
    "\n",
    "nb = Pipeline([('vect', CountVectorizer()),\n",
    "               ('tfidf', TfidfTransformer()),\n",
    "               ('clf', MultinomialNB()),\n",
    "              ])\n",
    "nb.fit(X_train, y_train)\n",
    "\n",
    "\n",
    "from sklearn.metrics import classification_report\n",
    "y_pred = nb.predict(X_test)\n",
    "\n",
    "print('accuracy %s' % accuracy_score(y_pred, y_test))\n",
    "print(classification_report(y_test, y_pred,target_names=my_tags))"
   ]
  },
  {
   "cell_type": "code",
   "execution_count": 51,
   "metadata": {},
   "outputs": [
    {
     "name": "stdout",
     "output_type": "stream",
     "text": [
      "accuracy 0.7608814042143186\n",
      "                  precision    recall  f1-score   support\n",
      "\n",
      "    Bank account       0.69      0.65      0.67      2488\n",
      "   Money service       0.64      0.71      0.67      2414\n",
      " Debt collection       0.71      0.47      0.57      2253\n",
      "    Student loan       0.74      0.77      0.76      2351\n",
      "    Vehicle loan       0.76      0.83      0.79      2385\n",
      "        Mortgage       0.78      0.70      0.74      2433\n",
      "Checking account       0.83      0.81      0.82      2369\n",
      "Credit reporting       0.84      0.94      0.89      2414\n",
      "     Credit card       0.90      0.91      0.90      2374\n",
      "   Consumer Loan       0.71      0.81      0.76      2390\n",
      "\n",
      "        accuracy                           0.76     23871\n",
      "       macro avg       0.76      0.76      0.76     23871\n",
      "    weighted avg       0.76      0.76      0.76     23871\n",
      "\n"
     ]
    }
   ],
   "source": [
    "nb_tuned = Pipeline([('vect', CountVectorizer()),\n",
    "               ('tfidf', TfidfTransformer()),\n",
    "               ('clf', MultinomialNB(alpha = 0.33335,fit_prior=False)),\n",
    "              ])\n",
    "nb_tuned.fit(X_train, y_train)\n",
    "\n",
    "\n",
    "from sklearn.metrics import classification_report\n",
    "y_pred2 = nb_tuned.predict(X_test)\n",
    "\n",
    "print('accuracy %s' % accuracy_score(y_pred2, y_test))\n",
    "print(classification_report(y_test, y_pred2,target_names=my_tags))"
   ]
  },
  {
   "cell_type": "code",
   "execution_count": 15,
   "metadata": {},
   "outputs": [
    {
     "name": "stdout",
     "output_type": "stream",
     "text": [
      "accuracy 0.7110720120648486\n",
      "                  precision    recall  f1-score   support\n",
      "\n",
      "    Bank account       0.72      0.52      0.61      2488\n",
      "   Money service       0.73      0.48      0.58      2414\n",
      " Debt collection       0.80      0.12      0.20      2253\n",
      "    Student loan       0.65      0.83      0.73      2351\n",
      "    Vehicle loan       0.72      0.82      0.76      2385\n",
      "        Mortgage       0.68      0.77      0.72      2433\n",
      "Checking account       0.69      0.88      0.77      2369\n",
      "Credit reporting       0.80      0.95      0.87      2414\n",
      "     Credit card       0.80      0.93      0.86      2374\n",
      "   Consumer Loan       0.63      0.79      0.70      2390\n",
      "\n",
      "        accuracy                           0.71     23871\n",
      "       macro avg       0.72      0.71      0.68     23871\n",
      "    weighted avg       0.72      0.71      0.68     23871\n",
      "\n"
     ]
    }
   ],
   "source": [
    "from sklearn.linear_model import SGDClassifier\n",
    "\n",
    "sgd = Pipeline([('vect', CountVectorizer()),\n",
    "                ('tfidf', TfidfTransformer()),\n",
    "                ('clf', SGDClassifier(loss='hinge', penalty='l2',alpha=1e-3, random_state=42, max_iter=5, tol=None)),\n",
    "               ])\n",
    "sgd.fit(X_train, y_train)\n",
    "\n",
    "\n",
    "\n",
    "y_pred = sgd.predict(X_test)\n",
    "\n",
    "print('accuracy %s' % accuracy_score(y_pred, y_test))\n",
    "print(classification_report(y_test, y_pred,target_names=my_tags))"
   ]
  },
  {
   "cell_type": "code",
   "execution_count": 16,
   "metadata": {},
   "outputs": [
    {
     "name": "stdout",
     "output_type": "stream",
     "text": [
      "accuracy 0.7758786812450253\n",
      "                  precision    recall  f1-score   support\n",
      "\n",
      "    Bank account       0.68      0.66      0.67      2488\n",
      "   Money service       0.69      0.67      0.68      2414\n",
      " Debt collection       0.68      0.60      0.64      2253\n",
      "    Student loan       0.76      0.80      0.78      2351\n",
      "    Vehicle loan       0.83      0.84      0.83      2385\n",
      "        Mortgage       0.73      0.77      0.75      2433\n",
      "Checking account       0.81      0.82      0.81      2369\n",
      "Credit reporting       0.90      0.92      0.91      2414\n",
      "     Credit card       0.92      0.91      0.91      2374\n",
      "   Consumer Loan       0.75      0.77      0.76      2390\n",
      "\n",
      "        accuracy                           0.78     23871\n",
      "       macro avg       0.77      0.78      0.77     23871\n",
      "    weighted avg       0.77      0.78      0.77     23871\n",
      "\n"
     ]
    }
   ],
   "source": [
    "sgd_tuned = Pipeline([('vect', CountVectorizer()),\n",
    "                ('tfidf', TfidfTransformer()),\n",
    "                ('clf', SGDClassifier(loss='modified_huber', penalty='l2',alpha=0.00001, random_state=0, max_iter=40, tol=None)),\n",
    "               ])\n",
    "sgd_tuned.fit(X_train, y_train)\n",
    "\n",
    "\n",
    "\n",
    "y_pred_tuned = sgd_tuned.predict(X_test)\n",
    "\n",
    "print('accuracy %s' % accuracy_score(y_pred_tuned, y_test))\n",
    "print(classification_report(y_test, y_pred_tuned,target_names=my_tags))"
   ]
  },
  {
   "cell_type": "code",
   "execution_count": 17,
   "metadata": {},
   "outputs": [
    {
     "name": "stdout",
     "output_type": "stream",
     "text": [
      "Requirement already satisfied: pickle-mixin in /opt/anaconda3/lib/python3.8/site-packages (1.0.2)\n"
     ]
    }
   ],
   "source": [
    "!pip install pickle-mixin"
   ]
  },
  {
   "cell_type": "code",
   "execution_count": 18,
   "metadata": {},
   "outputs": [],
   "source": [
    "import pickle"
   ]
  },
  {
   "cell_type": "code",
   "execution_count": 19,
   "metadata": {},
   "outputs": [],
   "source": [
    "filename_SDG = 'SDG.sav'\n",
    "pickle.dump(sgd,open(filename_SDG, 'wb'))"
   ]
  },
  {
   "cell_type": "code",
   "execution_count": 20,
   "metadata": {},
   "outputs": [],
   "source": [
    "filename_SDG2 = 'SDG_tuned.sav'\n",
    "pickle.dump(sgd_tuned,open(filename_SDG2, 'wb'))"
   ]
  },
  {
   "cell_type": "code",
   "execution_count": 21,
   "metadata": {},
   "outputs": [
    {
     "name": "stdout",
     "output_type": "stream",
     "text": [
      "accuracy 0.7376314356331951\n",
      "                  precision    recall  f1-score   support\n",
      "\n",
      "    Bank account       0.66      0.63      0.65      2488\n",
      "   Money service       0.64      0.65      0.65      2414\n",
      " Debt collection       0.61      0.61      0.61      2253\n",
      "    Student loan       0.72      0.73      0.73      2351\n",
      "    Vehicle loan       0.81      0.79      0.80      2385\n",
      "        Mortgage       0.66      0.72      0.69      2433\n",
      "Checking account       0.78      0.78      0.78      2369\n",
      "Credit reporting       0.88      0.87      0.87      2414\n",
      "     Credit card       0.90      0.87      0.88      2374\n",
      "   Consumer Loan       0.74      0.72      0.73      2390\n",
      "\n",
      "        accuracy                           0.74     23871\n",
      "       macro avg       0.74      0.74      0.74     23871\n",
      "    weighted avg       0.74      0.74      0.74     23871\n",
      "\n"
     ]
    }
   ],
   "source": [
    "from sklearn.linear_model import LogisticRegression\n",
    "\n",
    "logreg = Pipeline([('vect', CountVectorizer()),\n",
    "                ('tfidf', TfidfTransformer()),\n",
    "                ('clf', LogisticRegression(n_jobs=2, C=1e5,max_iter = 200)),\n",
    "               ])\n",
    "logreg.fit(X_train, y_train)\n",
    "\n",
    "\n",
    "\n",
    "y_pred = logreg.predict(X_test)\n",
    "\n",
    "print('accuracy %s' % accuracy_score(y_pred, y_test))\n",
    "print(classification_report(y_test, y_pred,target_names=my_tags))"
   ]
  },
  {
   "cell_type": "code",
   "execution_count": 22,
   "metadata": {},
   "outputs": [
    {
     "name": "stdout",
     "output_type": "stream",
     "text": [
      "[LibLinear]accuracy 0.7919651459930459\n",
      "                  precision    recall  f1-score   support\n",
      "\n",
      "    Bank account       0.72      0.69      0.70      2488\n",
      "   Money service       0.73      0.69      0.71      2414\n",
      " Debt collection       0.70      0.62      0.66      2253\n",
      "    Student loan       0.77      0.83      0.80      2351\n",
      "    Vehicle loan       0.83      0.84      0.84      2385\n",
      "        Mortgage       0.74      0.79      0.76      2433\n",
      "Checking account       0.82      0.84      0.83      2369\n",
      "Credit reporting       0.92      0.93      0.92      2414\n",
      "     Credit card       0.93      0.91      0.92      2374\n",
      "   Consumer Loan       0.76      0.79      0.77      2390\n",
      "\n",
      "        accuracy                           0.79     23871\n",
      "       macro avg       0.79      0.79      0.79     23871\n",
      "    weighted avg       0.79      0.79      0.79     23871\n",
      "\n"
     ]
    }
   ],
   "source": [
    "from sklearn.linear_model import LogisticRegression\n",
    "\n",
    "logreg_tuned = Pipeline([('vect', CountVectorizer()),\n",
    "                ('tfidf', TfidfTransformer()),\n",
    "                ('clf', LogisticRegression(verbose=1, solver='liblinear',random_state=0, C=5, penalty='l2',max_iter=250)),\n",
    "               ])\n",
    "logreg_tuned.fit(X_train, y_train)\n",
    "\n",
    "\n",
    "\n",
    "y_pred = logreg_tuned.predict(X_test)\n",
    "\n",
    "print('accuracy %s' % accuracy_score(y_pred, y_test))\n",
    "print(classification_report(y_test, y_pred,target_names=my_tags))"
   ]
  },
  {
   "cell_type": "code",
   "execution_count": 23,
   "metadata": {},
   "outputs": [],
   "source": [
    "filename_LOGREG = 'logreg.sav'\n",
    "pickle.dump(logreg,open(filename_LOGREG, 'wb'))"
   ]
  },
  {
   "cell_type": "code",
   "execution_count": 24,
   "metadata": {},
   "outputs": [],
   "source": [
    "filename_LOGREG2 = 'logreg_tuned.sav'\n",
    "pickle.dump(logreg_tuned,open(filename_LOGREG2, 'wb'))"
   ]
  },
  {
   "cell_type": "code",
   "execution_count": 25,
   "metadata": {},
   "outputs": [],
   "source": [
    "df_val = pd.read_csv('/Volumes/New Volume/UIU/UIU/5th Semester/ML Project/Project 2.0/valiation_set.csv')"
   ]
  },
  {
   "cell_type": "code",
   "execution_count": 26,
   "metadata": {},
   "outputs": [
    {
     "data": {
      "text/html": [
       "<div>\n",
       "<style scoped>\n",
       "    .dataframe tbody tr th:only-of-type {\n",
       "        vertical-align: middle;\n",
       "    }\n",
       "\n",
       "    .dataframe tbody tr th {\n",
       "        vertical-align: top;\n",
       "    }\n",
       "\n",
       "    .dataframe thead th {\n",
       "        text-align: right;\n",
       "    }\n",
       "</style>\n",
       "<table border=\"1\" class=\"dataframe\">\n",
       "  <thead>\n",
       "    <tr style=\"text-align: right;\">\n",
       "      <th></th>\n",
       "      <th>Unnamed: 0</th>\n",
       "      <th>Unnamed: 0.1</th>\n",
       "      <th>tags</th>\n",
       "      <th>post</th>\n",
       "    </tr>\n",
       "  </thead>\n",
       "  <tbody>\n",
       "    <tr>\n",
       "      <th>0</th>\n",
       "      <td>3</td>\n",
       "      <td>66</td>\n",
       "      <td>Mortgage</td>\n",
       "      <td>I refinanced my home loan with NationStar XX/X...</td>\n",
       "    </tr>\n",
       "    <tr>\n",
       "      <th>1</th>\n",
       "      <td>19</td>\n",
       "      <td>201</td>\n",
       "      <td>Mortgage</td>\n",
       "      <td>On XX/XX/XXXX, I had a rate lock with XXXX XXX...</td>\n",
       "    </tr>\n",
       "    <tr>\n",
       "      <th>2</th>\n",
       "      <td>24</td>\n",
       "      <td>244</td>\n",
       "      <td>Student loan</td>\n",
       "      <td>My Demand Draft Fraud Complaint Against XXXX X...</td>\n",
       "    </tr>\n",
       "    <tr>\n",
       "      <th>3</th>\n",
       "      <td>40</td>\n",
       "      <td>355</td>\n",
       "      <td>Debt collection</td>\n",
       "      <td>I OBTAINED A CREDIT CARD FROM XXXX  XXXX XXXX ...</td>\n",
       "    </tr>\n",
       "    <tr>\n",
       "      <th>4</th>\n",
       "      <td>46</td>\n",
       "      <td>395</td>\n",
       "      <td>Debt collection</td>\n",
       "      <td>I have been a victim of identity theft since 2...</td>\n",
       "    </tr>\n",
       "  </tbody>\n",
       "</table>\n",
       "</div>"
      ],
      "text/plain": [
       "   Unnamed: 0  Unnamed: 0.1             tags  \\\n",
       "0           3            66         Mortgage   \n",
       "1          19           201         Mortgage   \n",
       "2          24           244     Student loan   \n",
       "3          40           355  Debt collection   \n",
       "4          46           395  Debt collection   \n",
       "\n",
       "                                                post  \n",
       "0  I refinanced my home loan with NationStar XX/X...  \n",
       "1  On XX/XX/XXXX, I had a rate lock with XXXX XXX...  \n",
       "2  My Demand Draft Fraud Complaint Against XXXX X...  \n",
       "3  I OBTAINED A CREDIT CARD FROM XXXX  XXXX XXXX ...  \n",
       "4  I have been a victim of identity theft since 2...  "
      ]
     },
     "execution_count": 26,
     "metadata": {},
     "output_type": "execute_result"
    }
   ],
   "source": [
    "df_val.head()"
   ]
  },
  {
   "cell_type": "code",
   "execution_count": 27,
   "metadata": {},
   "outputs": [],
   "source": [
    "df_val = df_val.drop(columns = 'Unnamed: 0', axis = 1)"
   ]
  },
  {
   "cell_type": "code",
   "execution_count": 28,
   "metadata": {},
   "outputs": [],
   "source": [
    "df_val = df_val.drop(columns = 'Unnamed: 0.1', axis = 1)"
   ]
  },
  {
   "cell_type": "code",
   "execution_count": 29,
   "metadata": {},
   "outputs": [],
   "source": [
    "df_val = df_val.dropna()"
   ]
  },
  {
   "cell_type": "code",
   "execution_count": 30,
   "metadata": {},
   "outputs": [
    {
     "data": {
      "text/html": [
       "<div>\n",
       "<style scoped>\n",
       "    .dataframe tbody tr th:only-of-type {\n",
       "        vertical-align: middle;\n",
       "    }\n",
       "\n",
       "    .dataframe tbody tr th {\n",
       "        vertical-align: top;\n",
       "    }\n",
       "\n",
       "    .dataframe thead th {\n",
       "        text-align: right;\n",
       "    }\n",
       "</style>\n",
       "<table border=\"1\" class=\"dataframe\">\n",
       "  <thead>\n",
       "    <tr style=\"text-align: right;\">\n",
       "      <th></th>\n",
       "      <th>tags</th>\n",
       "      <th>post</th>\n",
       "    </tr>\n",
       "  </thead>\n",
       "  <tbody>\n",
       "    <tr>\n",
       "      <th>count</th>\n",
       "      <td>19892</td>\n",
       "      <td>19892</td>\n",
       "    </tr>\n",
       "    <tr>\n",
       "      <th>unique</th>\n",
       "      <td>10</td>\n",
       "      <td>19781</td>\n",
       "    </tr>\n",
       "    <tr>\n",
       "      <th>top</th>\n",
       "      <td>Credit card</td>\n",
       "      <td>I was looking through my report and noticed a ...</td>\n",
       "    </tr>\n",
       "    <tr>\n",
       "      <th>freq</th>\n",
       "      <td>2094</td>\n",
       "      <td>14</td>\n",
       "    </tr>\n",
       "  </tbody>\n",
       "</table>\n",
       "</div>"
      ],
      "text/plain": [
       "               tags                                               post\n",
       "count         19892                                              19892\n",
       "unique           10                                              19781\n",
       "top     Credit card  I was looking through my report and noticed a ...\n",
       "freq           2094                                                 14"
      ]
     },
     "execution_count": 30,
     "metadata": {},
     "output_type": "execute_result"
    }
   ],
   "source": [
    "df_val.describe()"
   ]
  },
  {
   "cell_type": "code",
   "execution_count": 31,
   "metadata": {},
   "outputs": [
    {
     "data": {
      "text/plain": [
       "Credit card         2094\n",
       "Credit reporting    2022\n",
       "Checking account    2019\n",
       "Mortgage            2010\n",
       "Vehicle loan        1985\n",
       "Student loan        1981\n",
       "Debt collection     1960\n",
       "Money service       1957\n",
       "Consumer Loan       1942\n",
       "Bank account        1922\n",
       "Name: tags, dtype: int64"
      ]
     },
     "execution_count": 31,
     "metadata": {},
     "output_type": "execute_result"
    }
   ],
   "source": [
    "df_val['tags'].value_counts()"
   ]
  },
  {
   "cell_type": "code",
   "execution_count": 32,
   "metadata": {},
   "outputs": [],
   "source": [
    "val_tags = ['Credit reporting','Debt collection','Mortgage','Credit card','Checking account','Money service','Bank account','Vehicle loan','Consumer Loan','Student loan']"
   ]
  },
  {
   "cell_type": "code",
   "execution_count": 33,
   "metadata": {},
   "outputs": [
    {
     "name": "stdout",
     "output_type": "stream",
     "text": [
      "I refinanced my home loan with NationStar XX/XX/XXXX. Upon closing, without notifying me or bringing it to my attention they removed my Flood insurance from my escrow account ** ( per CFPB they have to disclose this information at closing. They never did ). In XX/XX/XXXX my flood insurance was due and did not get paid. I received notice of cancellation and immediately called Nationstar. They told me it was not a part of my escrow and if i wanted them to pay it I needed to talk to the escrow dept. So they transferred me to Escrow. I asked for them to pay my flood insurance and they said they would. * ( this didn't go smoothly there was a lot of back and forth ). Two months later my flood policy was cancelled due to non payment. Then I received a letter from Nationstar telling me they purchased lender placed Flood Insurance for me, which was 3 times the amount of my policy thru XXXX. According to my research with CFPB Subject to the requirements of 1024.37 ( c ) ( 1 ) ( i ) through ( iii ), if not prohibited by State or other applicable law, a servicer may charge a borrower for force-placed insurance the servicer purchased, retroactive to the first day of any period of time in which the borrower did not have hazard insurance in place. I had my insurance they spoke to XXXX. I could not believe it I lost my Grandfathered rate which was {$1400.00} annually and now my insurance is over {$3700.00}. This mess has made my escrow account so low that it has raised my monthly payments over {$500.00} a month.so high. I am a single mom with XXXX growing children. This was not in my budget. I fell behind when my payments went up and by XXXX XXXX  my home was in Foreclosure.\n",
      "\n",
      "With the help of 1 agent who actually listened to me and started to dig into my account I was finally able to breath. She escalated it to her supervisor and who eventually my account was with Customer Relations VP and I thought I was finally going to get this resolved. By XX/XX/XXXX XXXX emailed me a deal where Nationstar dba MrCooper was going to offer me a modification where I still have to take the hit. and my payment was still over {$1500.00}. WHAT how is that helping me. Then I turned to CFPB and an attorney and that is when they offered to pay me the difference on my flood insurance policy for 5 years which is over {$11000.00} and they would modify my loan doing a partial claim. ( still don't know why I am having to take the hit ) and my payment was down to {$1200.00}. But that does not include Flood insurance. I wanted to think about it this was a big deal to me and I was so confused ( still am ). I reached out and called MrCooper to talk about the offer and the agent I spoke to had no clue what I was talking about he just kept telling me I had to either pay the Trial payment or I needed to pay over {$19000.00} and bring my account current. I sent a request to have my credit fixed and that was denied. No help at all in fact it made me so angry because I felt lied to i felt like I had been taken advantage of and scammed. Every time i spoke to someone it was something different but no one knew about the deal XXXX had offered me. I was so angry how could this still be going on.\n",
      "\n",
      "With fear that I was not going to have a home I decided I would take the offer. I called and they said no sorry you did not accept the offer it has been denied. So I tried for a modification and i was denied since I did not take the last offer.\n",
      "\n",
      "How is this okay. How can anyone expect me to trust this offer without getting answers to my questions and after I have been to XXXX  and back 5 times over. I have lost all good standing on my credit. My credit card limits gone. Credit cards cancelled. Phone calls, flyers about bankruptcy and foreclosure. I have not been able to eat, sleep, I have even started to see a counselor for my anxiety. All I am asking is for anyone reading this is to take a minute and think about what you would be feeling if this happened to you I never imagined this could ever happen. I thought with a phone call I could get this fixed its been 2 years I have lived this nightmare. I need someone to realize this is not easy for me to write this, I don't like conflict and I certainly don't know what else to do. I don't have money to keep paying a lawyer. Which it seems you have to do in order for big companies to actually listen. PLEASE HELP ME!!!!!!!!\n",
      "Tag: Mortgage\n"
     ]
    }
   ],
   "source": [
    "def print_plot(index):\n",
    "    example = df_val[['post', 'tags']].values[0]\n",
    "    if len(example) > 0:\n",
    "        print(example[0])\n",
    "        print('Tag:', example[1])\n",
    "print_plot(10)"
   ]
  },
  {
   "cell_type": "code",
   "execution_count": 34,
   "metadata": {},
   "outputs": [
    {
     "name": "stdout",
     "output_type": "stream",
     "text": [
      "refinanced home loan nationstar xx xx xxxx upon closing without notifying bringing attention removed flood insurance escrow account per cfpb disclose information closing never xx xx xxxx flood insurance due get paid received notice cancellation immediately called nationstar told part escrow wanted pay needed talk escrow dept transferred escrow asked pay flood insurance said would didnt go smoothly lot back forth two months later flood policy cancelled due non payment received letter nationstar telling purchased lender placed flood insurance 3 times amount policy thru xxxx according research cfpb subject requirements 102437 c 1 iii prohibited state applicable law servicer may charge borrower forceplaced insurance servicer purchased retroactive first day period time borrower hazard insurance place insurance spoke xxxx could believe lost grandfathered rate 140000 annually insurance 370000 mess made escrow account low raised monthly payments 50000 monthso high single mom xxxx growing children budget fell behind payments went xxxx xxxx home foreclosurewith help 1 agent actually listened started dig account finally able breath escalated supervisor eventually account customer relations vp thought finally going get resolved xx xx xxxx xxxx emailed deal nationstar dba mrcooper going offer modification still take hit payment still 150000 helping turned cfpb attorney offered pay difference flood insurance policy 5 years 1100000 would modify loan partial claim still dont know take hit payment 120000 include flood insurance wanted think big deal confused still reached called mrcooper talk offer agent spoke clue talking kept telling either pay trial payment needed pay 1900000 bring account current sent request credit fixed denied help fact made angry felt lied felt like taken advantage scammed every time spoke someone something different one knew deal xxxx offered angry could still going onwith fear going home decided would take offer called said sorry accept offer denied tried modification denied since take last offerhow okay anyone expect trust offer without getting answers questions xxxx back 5 times lost good standing credit credit card limits gone credit cards cancelled phone calls flyers bankruptcy foreclosure able eat sleep even started see counselor anxiety asking anyone reading take minute think would feeling happened never imagined could ever happen thought phone call could get fixed 2 years lived nightmare need someone realize easy write dont like conflict certainly dont know else dont money keep paying lawyer seems order big companies actually listen please help\n",
      "Tag: Mortgage\n"
     ]
    }
   ],
   "source": [
    "REPLACE_BY_SPACE_RE = re.compile('[/(){}\\[\\]\\|@,;]')\n",
    "BAD_SYMBOLS_RE = re.compile('[^0-9a-z #+_]')\n",
    "STOPWORDS = set(stopwords.words('english'))\n",
    "\n",
    "def clean_text(text):\n",
    "    \"\"\"\n",
    "        text: a string\n",
    "        \n",
    "        return: modified initial string\n",
    "    \"\"\"\n",
    "    text = BeautifulSoup(text, \"lxml\").text # HTML decoding\n",
    "    text = text.lower() # lowercase text\n",
    "    text = REPLACE_BY_SPACE_RE.sub(' ', text) # replace REPLACE_BY_SPACE_RE symbols by space in text\n",
    "    text = BAD_SYMBOLS_RE.sub('', text) # delete symbols which are in BAD_SYMBOLS_RE from text\n",
    "    text = ' '.join(word for word in text.split() if word not in STOPWORDS) # delete stopwors from text\n",
    "    return text\n",
    "    \n",
    "df_val['post'] = df_val['post'].apply(clean_text)\n",
    "print_plot(10)"
   ]
  },
  {
   "cell_type": "code",
   "execution_count": 35,
   "metadata": {},
   "outputs": [],
   "source": [
    "X_val = df_val.post\n",
    "y_val = df_val.tags\n"
   ]
  },
  {
   "cell_type": "code",
   "execution_count": 36,
   "metadata": {},
   "outputs": [
    {
     "name": "stdout",
     "output_type": "stream",
     "text": [
      "0.7377840337824251\n",
      "accuracy 0.7377840337824251\n",
      "                  precision    recall  f1-score   support\n",
      "\n",
      "Credit reporting       0.63      0.64      0.64      1904\n",
      " Debt collection       0.67      0.64      0.66      2107\n",
      "        Mortgage       0.61      0.61      0.61      1936\n",
      "     Credit card       0.74      0.75      0.74      2054\n",
      "Checking account       0.78      0.80      0.79      1970\n",
      "   Money service       0.73      0.67      0.70      2129\n",
      "    Bank account       0.77      0.78      0.77      1953\n",
      "    Vehicle loan       0.86      0.88      0.87      1965\n",
      "   Consumer Loan       0.86      0.90      0.88      1903\n",
      "    Student loan       0.72      0.73      0.72      1971\n",
      "\n",
      "        accuracy                           0.74     19892\n",
      "       macro avg       0.74      0.74      0.74     19892\n",
      "    weighted avg       0.74      0.74      0.74     19892\n",
      "\n"
     ]
    }
   ],
   "source": [
    "loaded_model_LOGREG = pickle.load(open(filename_LOGREG, 'rb'))\n",
    "result = loaded_model_LOGREG.score(X_val,y_val)\n",
    "print(result)\n",
    "y_pred_LOGREG = loaded_model_LOGREG.predict(X_val)\n",
    "\n",
    "print('accuracy %s' % accuracy_score(y_pred_LOGREG, y_val))\n",
    "print(classification_report(y_pred_LOGREG, y_val,target_names=val_tags))"
   ]
  },
  {
   "cell_type": "code",
   "execution_count": 37,
   "metadata": {},
   "outputs": [
    {
     "name": "stdout",
     "output_type": "stream",
     "text": [
      "0.7951940478584355\n",
      "accuracy 0.7951940478584355\n",
      "                  precision    recall  f1-score   support\n",
      "\n",
      "Credit reporting       0.69      0.70      0.69      1891\n",
      " Debt collection       0.69      0.73      0.71      1896\n",
      "        Mortgage       0.62      0.71      0.66      1680\n",
      "     Credit card       0.83      0.79      0.81      2180\n",
      "Checking account       0.85      0.82      0.84      2091\n",
      "   Money service       0.81      0.75      0.78      2125\n",
      "    Bank account       0.84      0.81      0.83      2035\n",
      "    Vehicle loan       0.92      0.91      0.92      2037\n",
      "   Consumer Loan       0.90      0.93      0.92      1919\n",
      "    Student loan       0.79      0.77      0.78      2038\n",
      "\n",
      "        accuracy                           0.80     19892\n",
      "       macro avg       0.79      0.79      0.79     19892\n",
      "    weighted avg       0.80      0.80      0.80     19892\n",
      "\n"
     ]
    }
   ],
   "source": [
    "loaded_model_LOGREG2 = pickle.load(open(filename_LOGREG2, 'rb'))\n",
    "result = loaded_model_LOGREG2.score(X_val,y_val)\n",
    "print(result)\n",
    "y_pred_LOGREG2 = loaded_model_LOGREG2.predict(X_val)\n",
    "\n",
    "print('accuracy %s' % accuracy_score(y_pred_LOGREG2, y_val))\n",
    "print(classification_report(y_pred_LOGREG2, y_val,target_names=val_tags))"
   ]
  },
  {
   "cell_type": "code",
   "execution_count": 38,
   "metadata": {},
   "outputs": [
    {
     "name": "stdout",
     "output_type": "stream",
     "text": [
      "0.7127991152221999\n",
      "accuracy 0.7127991152221999\n",
      "                  precision    recall  f1-score   support\n",
      "\n",
      "Credit reporting       0.52      0.71      0.60      1422\n",
      " Debt collection       0.50      0.74      0.60      1369\n",
      "        Mortgage       0.11      0.81      0.20       271\n",
      "     Credit card       0.83      0.69      0.75      2509\n",
      "Checking account       0.83      0.72      0.77      2330\n",
      "   Money service       0.78      0.68      0.72      2252\n",
      "    Bank account       0.88      0.68      0.77      2552\n",
      "    Vehicle loan       0.95      0.80      0.87      2395\n",
      "   Consumer Loan       0.92      0.79      0.85      2314\n",
      "    Student loan       0.77      0.62      0.69      2478\n",
      "\n",
      "        accuracy                           0.71     19892\n",
      "       macro avg       0.71      0.72      0.68     19892\n",
      "    weighted avg       0.79      0.71      0.74     19892\n",
      "\n"
     ]
    }
   ],
   "source": [
    "loaded_model_SDG = pickle.load(open(filename_SDG, 'rb'))\n",
    "result = loaded_model_SDG.score(X_val,y_val)\n",
    "print(result)\n",
    "\n",
    "y_pred_SDG = loaded_model_SDG.predict(X_val)\n",
    "\n",
    "print('accuracy %s' % accuracy_score(y_pred_SDG, y_val))\n",
    "print(classification_report(y_pred_SDG, y_val,target_names=val_tags))"
   ]
  },
  {
   "cell_type": "code",
   "execution_count": 39,
   "metadata": {},
   "outputs": [
    {
     "name": "stdout",
     "output_type": "stream",
     "text": [
      "0.7767444198672834\n",
      "accuracy 0.7767444198672834\n",
      "                  precision    recall  f1-score   support\n",
      "\n",
      "Credit reporting       0.67      0.66      0.67      1954\n",
      " Debt collection       0.66      0.69      0.68      1925\n",
      "        Mortgage       0.59      0.69      0.64      1666\n",
      "     Credit card       0.79      0.79      0.79      2091\n",
      "Checking account       0.85      0.82      0.83      2096\n",
      "   Money service       0.79      0.73      0.76      2139\n",
      "    Bank account       0.82      0.81      0.81      1984\n",
      "    Vehicle loan       0.92      0.89      0.90      2063\n",
      "   Consumer Loan       0.89      0.92      0.91      1935\n",
      "    Student loan       0.77      0.75      0.76      2039\n",
      "\n",
      "        accuracy                           0.78     19892\n",
      "       macro avg       0.78      0.78      0.77     19892\n",
      "    weighted avg       0.78      0.78      0.78     19892\n",
      "\n"
     ]
    }
   ],
   "source": [
    "loaded_model_SDG2 = pickle.load(open(filename_SDG2, 'rb'))\n",
    "result = loaded_model_SDG2.score(X_val,y_val)\n",
    "print(result)\n",
    "\n",
    "y_pred_SDG2 = loaded_model_SDG2.predict(X_val)\n",
    "\n",
    "print('accuracy %s' % accuracy_score(y_pred_SDG2, y_val))\n",
    "print(classification_report(y_pred_SDG2, y_val,target_names=val_tags))"
   ]
  },
  {
   "cell_type": "code",
   "execution_count": 40,
   "metadata": {},
   "outputs": [],
   "source": [
    "y_pred = loaded_model_LOGREG.predict(X_val)"
   ]
  }
 ],
 "metadata": {
  "interpreter": {
   "hash": "40d3a090f54c6569ab1632332b64b2c03c39dcf918b08424e98f38b5ae0af88f"
  },
  "kernelspec": {
   "display_name": "Python 3.8.8 64-bit ('base': conda)",
   "language": "python",
   "name": "python3"
  },
  "language_info": {
   "codemirror_mode": {
    "name": "ipython",
    "version": 3
   },
   "file_extension": ".py",
   "mimetype": "text/x-python",
   "name": "python",
   "nbconvert_exporter": "python",
   "pygments_lexer": "ipython3",
   "version": "3.8.8"
  },
  "orig_nbformat": 4
 },
 "nbformat": 4,
 "nbformat_minor": 2
}
